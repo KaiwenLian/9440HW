{
 "cells": [
  {
   "cell_type": "code",
   "execution_count": 1,
   "metadata": {},
   "outputs": [],
   "source": [
    "import requests\n",
    "import pandas as pd\n",
    "from io import StringIO"
   ]
  },
  {
   "cell_type": "markdown",
   "metadata": {},
   "source": [
    "## Deliverables #1"
   ]
  },
  {
   "cell_type": "code",
   "execution_count": 2,
   "metadata": {},
   "outputs": [
    {
     "name": "stdout",
     "output_type": "stream",
     "text": [
      "   VIN (1-10)    County     City State  Postal Code  Model Year   Make  \\\n",
      "0  WAUTPBFF4H      King  Seattle    WA      98126.0        2017   AUDI   \n",
      "1  WAUUPBFF2J  Thurston  Olympia    WA      98502.0        2018   AUDI   \n",
      "2  5YJSA1E22H  Thurston    Lacey    WA      98516.0        2017  TESLA   \n",
      "3  1C4JJXP62M  Thurston   Tenino    WA      98589.0        2021   JEEP   \n",
      "4  5YJ3E1EC9L    Yakima   Yakima    WA      98902.0        2020  TESLA   \n",
      "\n",
      "      Model                   Electric Vehicle Type  \\\n",
      "0        A3  Plug-in Hybrid Electric Vehicle (PHEV)   \n",
      "1        A3  Plug-in Hybrid Electric Vehicle (PHEV)   \n",
      "2   MODEL S          Battery Electric Vehicle (BEV)   \n",
      "3  WRANGLER  Plug-in Hybrid Electric Vehicle (PHEV)   \n",
      "4   MODEL 3          Battery Electric Vehicle (BEV)   \n",
      "\n",
      "  Clean Alternative Fuel Vehicle (CAFV) Eligibility  Electric Range  \\\n",
      "0             Not eligible due to low battery range              16   \n",
      "1             Not eligible due to low battery range              16   \n",
      "2           Clean Alternative Fuel Vehicle Eligible             210   \n",
      "3             Not eligible due to low battery range              25   \n",
      "4           Clean Alternative Fuel Vehicle Eligible             308   \n",
      "\n",
      "   Base MSRP  Legislative District  DOL Vehicle ID  \\\n",
      "0          0                  34.0       235085336   \n",
      "1          0                  22.0       237896795   \n",
      "2          0                  22.0       154498865   \n",
      "3          0                  20.0       154525493   \n",
      "4          0                  14.0       225996361   \n",
      "\n",
      "                 Vehicle Location  \\\n",
      "0    POINT (-122.374105 47.54468)   \n",
      "1   POINT (-122.943445 47.059252)   \n",
      "2    POINT (-122.78083 47.083975)   \n",
      "3    POINT (-122.85403 46.856085)   \n",
      "4  POINT (-120.524012 46.5973939)   \n",
      "\n",
      "                               Electric Utility  2020 Census Tract  \n",
      "0  CITY OF SEATTLE - (WA)|CITY OF TACOMA - (WA)       5.303301e+10  \n",
      "1                        PUGET SOUND ENERGY INC       5.306701e+10  \n",
      "2                        PUGET SOUND ENERGY INC       5.306701e+10  \n",
      "3                        PUGET SOUND ENERGY INC       5.306701e+10  \n",
      "4                                    PACIFICORP       5.307700e+10  \n"
     ]
    }
   ],
   "source": [
    "import requests\n",
    "import pandas as pd\n",
    "from io import StringIO\n",
    "\n",
    "def extract(url):\n",
    "    response = requests.get(url)\n",
    "    response.raise_for_status() \n",
    "    data = StringIO(response.text)\n",
    "    df = pd.read_csv(data)\n",
    "    return df\n",
    "\n",
    "#Electric Vehicle Population Data\n",
    "url = 'https://data.wa.gov/api/views/f6w7-q2d2/rows.csv?accessType=DOWNLOAD'\n",
    "\n",
    "# Extract the data into pandas dataframe\n",
    "ev_df = extract(url)\n",
    "print(ev_df.head())  # Display the first few rows of the dataframe\n"
   ]
  },
  {
   "cell_type": "code",
   "execution_count": 3,
   "metadata": {},
   "outputs": [
    {
     "name": "stdout",
     "output_type": "stream",
     "text": [
      "Data dictionary exported to data_dictionary.xlsx\n"
     ]
    }
   ],
   "source": [
    "# Function to create a data dictionary\n",
    "def create_data_dictionary(df):\n",
    "    data_dict = []\n",
    "    for column in df.columns:\n",
    "        data_dict.append({\n",
    "            'Column Name': column,\n",
    "            'Data Type': df[column].dtype,\n",
    "            'Sample Data': df[column].dropna().unique()[:5]  # Show up to 5 unique values\n",
    "        })\n",
    "    return pd.DataFrame(data_dict, columns=['Column Name', 'Data Type', 'Sample Data'])\n",
    "\n",
    "# Create data dictionary\n",
    "dictionary = create_data_dictionary(ev_df)\n",
    "\n",
    "# Export data dictionary to Excel\n",
    "file_name = \"data_dictionary.xlsx\"\n",
    "dictionary.to_excel(file_name, index=False)\n",
    "print(f'Data dictionary exported to {file_name}')"
   ]
  },
  {
   "cell_type": "markdown",
   "metadata": {},
   "source": [
    "## Deliverables #2"
   ]
  },
  {
   "cell_type": "code",
   "execution_count": 9,
   "metadata": {},
   "outputs": [],
   "source": [
    "from google.cloud import storage\n",
    "from datetime import datetime\n",
    "from google.cloud import bigquery\n",
    "import pandas as pd\n",
    "from io import StringIO\n",
    "from google.oauth2 import service_account\n",
    "import pandas_gbq\n",
    "import json\n",
    "from pandas_gbq import to_gbq\n",
    "import os"
   ]
  },
  {
   "cell_type": "code",
   "execution_count": 5,
   "metadata": {},
   "outputs": [],
   "source": [
    "# Define the storage function\n",
    "def upload_dataframe_to_gcs(bucket_name, df, file_name, project_id):\n",
    "    now = datetime.now()\n",
    "\n",
    "    formatted_date = now.strftime(\"%Y-%m-%d\")\n",
    "    destination_folder = f\"{formatted_date}\"\n",
    "\n",
    "    formatted_time = now.strftime(\"%Y%m%d%H%M%S\")\n",
    "    file_name = f\"{file_name}_{formatted_time}.csv\"\n",
    "\n",
    "    csv_string = df.to_csv(index=False)\n",
    "\n",
    "    storage_client = storage.Client(project=project_id)\n",
    "    bucket = storage_client.bucket(bucket_name)\n",
    "\n",
    "    blob = bucket.blob(f\"{destination_folder}/{file_name}\")\n",
    "    blob.upload_from_string(csv_string, content_type='text/csv')\n",
    "\n",
    "    print(f\"DataFrame uploaded to {bucket_name}/{destination_folder}/{file_name}.\")"
   ]
  },
  {
   "cell_type": "code",
   "execution_count": 11,
   "metadata": {},
   "outputs": [
    {
     "name": "stdout",
     "output_type": "stream",
     "text": [
      "prime-task-421716-f42265232751.json\n"
     ]
    }
   ],
   "source": [
    "# GCP JSON key file\n",
    "os.environ[\"GOOGLE_APPLICATION_CREDENTIALS\"] = \"prime-task-421716-f42265232751.json\"\n",
    "print(os.environ[\"GOOGLE_APPLICATION_CREDENTIALS\"])"
   ]
  },
  {
   "cell_type": "code",
   "execution_count": 12,
   "metadata": {},
   "outputs": [
    {
     "name": "stdout",
     "output_type": "stream",
     "text": [
      "DataFrame uploaded to hw1_ev_bucket/2024-04-28/electric_vehicle_population_data_20240428165655.csv.\n"
     ]
    }
   ],
   "source": [
    "# Push it to GCP\n",
    "bucket_name = \"hw1_ev_bucket\"\n",
    "project_id = \"prime-task-421716\"\n",
    "upload_dataframe_to_gcs(bucket_name, ev_df, \"electric_vehicle_population_data\", project_id)"
   ]
  },
  {
   "cell_type": "code",
   "execution_count": null,
   "metadata": {},
   "outputs": [],
   "source": []
  }
 ],
 "metadata": {
  "kernelspec": {
   "display_name": "Python 3",
   "language": "python",
   "name": "python3"
  },
  "language_info": {
   "codemirror_mode": {
    "name": "ipython",
    "version": 3
   },
   "file_extension": ".py",
   "mimetype": "text/x-python",
   "name": "python",
   "nbconvert_exporter": "python",
   "pygments_lexer": "ipython3",
   "version": "3.8.5"
  }
 },
 "nbformat": 4,
 "nbformat_minor": 4
}
