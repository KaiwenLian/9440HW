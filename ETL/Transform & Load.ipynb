{
 "cells": [
  {
   "cell_type": "code",
   "execution_count": 1,
   "metadata": {},
   "outputs": [],
   "source": [
    "import decimal\n",
    "import pandas as pd"
   ]
  },
  {
   "cell_type": "markdown",
   "metadata": {},
   "source": [
    "## Transformation was Done by Alteryx. Results were Saved as CSVs."
   ]
  },
  {
   "cell_type": "code",
   "execution_count": 92,
   "metadata": {},
   "outputs": [
    {
     "name": "stdout",
     "output_type": "stream",
     "text": [
      "    Fact_ID Electric_Range Base_MSRP  Date_ID Location_ID   Vehicle_ID  \\\n",
      "0  F0121432             76         0  D000011     L000445  V0140745573   \n",
      "1  F0115354            204         0  D000017     L000505  V0256365756   \n",
      "2  F0132177            220         0  D000017     L000354  V0329296670   \n",
      "3  F0105138            239         0  D000017     L000308  V0107280638   \n",
      "4  F0144595            200         0  D000014     L000445  V0145529142   \n",
      "\n",
      "  EV_Type_ID  \n",
      "0    E000029  \n",
      "1    E000029  \n",
      "2    E000029  \n",
      "3    E000029  \n",
      "4    E000029  \n"
     ]
    },
    {
     "data": {
      "text/plain": [
       "Fact_ID           object\n",
       "Electric_Range    object\n",
       "Base_MSRP         object\n",
       "Date_ID           object\n",
       "Location_ID       object\n",
       "Vehicle_ID        object\n",
       "EV_Type_ID        object\n",
       "dtype: object"
      ]
     },
     "execution_count": 92,
     "metadata": {},
     "output_type": "execute_result"
    }
   ],
   "source": [
    "# Load result CSVs into DataFrames\n",
    "df_Facts_EV = pd.read_csv('Facts_EV.csv')\n",
    "df_Facts_EV.columns = df_Facts_EV.columns.str.replace(' ', '_')\n",
    "df_Facts_EV[\"Electric_Range\"] = df_Facts_EV[\"Electric_Range\"].apply(context.create_decimal_from_float)\n",
    "df_Facts_EV[\"Base_MSRP\"] = df_Facts_EV[\"Base_MSRP\"].apply(context.create_decimal_from_float)\n",
    "print(df_Facts_EV.head())\n",
    "df_Facts_EV.dtypes"
   ]
  },
  {
   "cell_type": "code",
   "execution_count": 64,
   "metadata": {},
   "outputs": [
    {
     "name": "stdout",
     "output_type": "stream",
     "text": [
      "    Vehicle_ID         VIN   Make     Model  DOL_Vehicle_ID\n",
      "0  V0235085336  WAUTPBFF4H   AUDI        A3       235085336\n",
      "1  V0237896795  WAUUPBFF2J   AUDI        A3       237896795\n",
      "2  V0154498865  5YJSA1E22H  TESLA   MODEL S       154498865\n",
      "3  V0154525493  1C4JJXP62M   JEEP  WRANGLER       154525493\n",
      "4  V0225996361  5YJ3E1EC9L  TESLA   MODEL 3       225996361\n"
     ]
    },
    {
     "data": {
      "text/plain": [
       "Vehicle_ID        object\n",
       "VIN               object\n",
       "Make              object\n",
       "Model             object\n",
       "DOL_Vehicle_ID     int64\n",
       "dtype: object"
      ]
     },
     "execution_count": 64,
     "metadata": {},
     "output_type": "execute_result"
    }
   ],
   "source": [
    "df_Vehicle_Dim = pd.read_csv('Vehicle_Dim.csv')\n",
    "df_Vehicle_Dim.columns = df_Vehicle_Dim.columns.str.replace(' ', '_')\n",
    "print(df_Vehicle_Dim.head())\n",
    "df_Vehicle_Dim.dtypes"
   ]
  },
  {
   "cell_type": "code",
   "execution_count": 86,
   "metadata": {
    "scrolled": false
   },
   "outputs": [
    {
     "name": "stdout",
     "output_type": "stream",
     "text": [
      "  Location_ID      County              City State  Postal_Code  Longitude  \\\n",
      "0     L000001  Las Animas          Trinidad    CO        81082  -104.5165   \n",
      "1     L000002     El Paso  Colorado Springs    CO        80925  -104.6434   \n",
      "2     L000003     El Paso  Colorado Springs    CO        80908  -104.7143   \n",
      "3     L000004     El Paso  Colorado Springs    CO        80923  -104.7172   \n",
      "4     L000005       Adams            Aurora    CO        80019  -104.7338   \n",
      "\n",
      "   Latitude  \n",
      "0  37.16826  \n",
      "1  38.74197  \n",
      "2  39.03137  \n",
      "3  38.92589  \n",
      "4  39.77314  \n"
     ]
    },
    {
     "data": {
      "text/plain": [
       "Location_ID    object\n",
       "County         object\n",
       "City           object\n",
       "State          object\n",
       "Postal_Code     int64\n",
       "Longitude      object\n",
       "Latitude       object\n",
       "dtype: object"
      ]
     },
     "execution_count": 86,
     "metadata": {},
     "output_type": "execute_result"
    }
   ],
   "source": [
    "df_Location_Dim = pd.read_csv('Location_Dim.csv')\n",
    "df_Location_Dim.columns = df_Location_Dim.columns.str.replace(' ', '_')\n",
    "context = decimal.Context(prec=7)\n",
    "df_Location_Dim[\"Longitude\"] = df_Location_Dim[\"Longitude\"].apply(context.create_decimal_from_float)\n",
    "df_Location_Dim[\"Latitude\"] = df_Location_Dim[\"Latitude\"].apply(context.create_decimal_from_float)\n",
    "print(df_Location_Dim.head())\n",
    "df_Location_Dim.dtypes"
   ]
  },
  {
   "cell_type": "code",
   "execution_count": 61,
   "metadata": {},
   "outputs": [
    {
     "name": "stdout",
     "output_type": "stream",
     "text": [
      "  EV_Type_ID           Electric_Vehicle_Type  \\\n",
      "0    E000001  Battery Electric Vehicle (BEV)   \n",
      "1    E000002  Battery Electric Vehicle (BEV)   \n",
      "2    E000003  Battery Electric Vehicle (BEV)   \n",
      "3    E000004  Battery Electric Vehicle (BEV)   \n",
      "4    E000005  Battery Electric Vehicle (BEV)   \n",
      "\n",
      "                          CAFV_Eligibility CAFV_Eligibility_Type  \\\n",
      "0  Clean Alternative Fuel Vehicle Eligible              Eligible   \n",
      "1  Clean Alternative Fuel Vehicle Eligible              Eligible   \n",
      "2  Clean Alternative Fuel Vehicle Eligible              Eligible   \n",
      "3  Clean Alternative Fuel Vehicle Eligible              Eligible   \n",
      "4  Clean Alternative Fuel Vehicle Eligible              Eligible   \n",
      "\n",
      "                                    Electric_Utility  \n",
      "0                                        AVISTA CORP  \n",
      "1  BONNEVILLE POWER ADMINISTRATION||AVISTA CORP||...  \n",
      "2  BONNEVILLE POWER ADMINISTRATION||AVISTA CORP||...  \n",
      "3  BONNEVILLE POWER ADMINISTRATION||AVISTA CORP||...  \n",
      "4  BONNEVILLE POWER ADMINISTRATION||BIG BEND ELEC...  \n"
     ]
    },
    {
     "data": {
      "text/plain": [
       "EV_Type_ID               object\n",
       "Electric_Vehicle_Type    object\n",
       "CAFV_Eligibility         object\n",
       "CAFV_Eligibility_Type    object\n",
       "Electric_Utility         object\n",
       "dtype: object"
      ]
     },
     "execution_count": 61,
     "metadata": {},
     "output_type": "execute_result"
    }
   ],
   "source": [
    "df_EV_Type_Dim = pd.read_csv('Electric_Vehicle_Type_Dim.csv')\n",
    "df_EV_Type_Dim.rename(columns={'Clean Alternative Fuel Vehicle (CAFV) Eligibility': 'CAFV Eligibility'}, inplace=True)\n",
    "df_EV_Type_Dim.columns = df_EV_Type_Dim.columns.str.replace(' ', '_')\n",
    "print(df_EV_Type_Dim.head())\n",
    "df_EV_Type_Dim.dtypes"
   ]
  },
  {
   "cell_type": "code",
   "execution_count": 59,
   "metadata": {},
   "outputs": [
    {
     "name": "stdout",
     "output_type": "stream",
     "text": [
      "   Date_ID  Model_Year\n",
      "0  D000001        1997\n",
      "1  D000002        1998\n",
      "2  D000003        1999\n",
      "3  D000004        2000\n",
      "4  D000005        2002\n"
     ]
    },
    {
     "data": {
      "text/plain": [
       "Date_ID       object\n",
       "Model_Year     int64\n",
       "dtype: object"
      ]
     },
     "execution_count": 59,
     "metadata": {},
     "output_type": "execute_result"
    }
   ],
   "source": [
    "df_Date_Dim = pd.read_csv('Date_Dim.csv')\n",
    "df_Date_Dim.columns = df_Date_Dim.columns.str.replace(' ', '_')\n",
    "print(df_Date_Dim.head())\n",
    "df_Date_Dim.dtypes"
   ]
  },
  {
   "cell_type": "markdown",
   "metadata": {},
   "source": [
    "## Loading Fact Table and Dim Tables into my GCP DW"
   ]
  },
  {
   "cell_type": "code",
   "execution_count": 56,
   "metadata": {},
   "outputs": [],
   "source": [
    "from google.cloud import storage\n",
    "from datetime import datetime\n",
    "from google.cloud import bigquery\n",
    "from io import StringIO\n",
    "from google.oauth2 import service_account\n",
    "import pandas_gbq\n",
    "import json\n",
    "from pandas_gbq import to_gbq\n",
    "from google.cloud import bigquery\n",
    "import os"
   ]
  },
  {
   "cell_type": "code",
   "execution_count": 52,
   "metadata": {},
   "outputs": [],
   "source": [
    "def upload_table_to_bq(df, project_id, dataset_name, table_name):\n",
    "    client = bigquery.Client(project=project_id)\n",
    "    dataset_id = f'{project_id}.{dataset_name}'\n",
    "    table_id = f'{dataset_id}.{table_name}'\n",
    "\n",
    "    try:\n",
    "        # Ensure the dataset exists\n",
    "        dataset = bigquery.Dataset(dataset_id)\n",
    "        client.create_dataset(dataset, exists_ok=True)\n",
    "\n",
    "        # Load the DataFrame to BigQuery\n",
    "        job = client.load_table_from_dataframe(df, table_id)\n",
    "        job.result()  # Wait for the job to complete\n",
    "        print(\"Table uploaded to BigQuery.\")\n",
    "    except Exception as e:\n",
    "        print(f'Failed to upload table: {e}')"
   ]
  },
  {
   "cell_type": "code",
   "execution_count": 66,
   "metadata": {},
   "outputs": [
    {
     "name": "stdout",
     "output_type": "stream",
     "text": [
      "prime-task-421716-f42265232751.json\n"
     ]
    }
   ],
   "source": [
    "# Set variables\n",
    "os.environ[\"GOOGLE_APPLICATION_CREDENTIALS\"] = \"prime-task-421716-f42265232751.json\"\n",
    "print(os.environ[\"GOOGLE_APPLICATION_CREDENTIALS\"])\n",
    "\n",
    "project_id = 'prime-task-421716'"
   ]
  },
  {
   "cell_type": "code",
   "execution_count": 60,
   "metadata": {},
   "outputs": [
    {
     "name": "stdout",
     "output_type": "stream",
     "text": [
      "prime-task-421716-f42265232751.json\n",
      "Table uploaded to BigQuery.\n"
     ]
    }
   ],
   "source": [
    "# Loading\n",
    "upload_table_to_bq(df_Date_Dim, project_id, 'ev_population_data', 'Date_Dim')"
   ]
  },
  {
   "cell_type": "code",
   "execution_count": 70,
   "metadata": {},
   "outputs": [
    {
     "name": "stdout",
     "output_type": "stream",
     "text": [
      "Table uploaded to BigQuery.\n"
     ]
    }
   ],
   "source": [
    "upload_table_to_bq(df_Vehicle_Dim, project_id, 'ev_population_data', 'Vehicle_Dim')"
   ]
  },
  {
   "cell_type": "code",
   "execution_count": 88,
   "metadata": {},
   "outputs": [
    {
     "name": "stdout",
     "output_type": "stream",
     "text": [
      "Table uploaded to BigQuery.\n"
     ]
    }
   ],
   "source": [
    "upload_table_to_bq(df_Location_Dim, project_id, 'ev_population_data', 'Location_Dim')"
   ]
  },
  {
   "cell_type": "code",
   "execution_count": 90,
   "metadata": {},
   "outputs": [
    {
     "name": "stdout",
     "output_type": "stream",
     "text": [
      "Table uploaded to BigQuery.\n"
     ]
    }
   ],
   "source": [
    "upload_table_to_bq(df_EV_Type_Dim, project_id, 'ev_population_data', 'Electric_Vehicle_Type_Dim')"
   ]
  },
  {
   "cell_type": "code",
   "execution_count": 93,
   "metadata": {},
   "outputs": [
    {
     "name": "stdout",
     "output_type": "stream",
     "text": [
      "Table uploaded to BigQuery.\n"
     ]
    }
   ],
   "source": [
    "upload_table_to_bq(df_Facts_EV, project_id, 'ev_population_data', 'Facts_EV')"
   ]
  }
 ],
 "metadata": {
  "kernelspec": {
   "display_name": "Python 3",
   "language": "python",
   "name": "python3"
  },
  "language_info": {
   "codemirror_mode": {
    "name": "ipython",
    "version": 3
   },
   "file_extension": ".py",
   "mimetype": "text/x-python",
   "name": "python",
   "nbconvert_exporter": "python",
   "pygments_lexer": "ipython3",
   "version": "3.8.5"
  }
 },
 "nbformat": 4,
 "nbformat_minor": 4
}
